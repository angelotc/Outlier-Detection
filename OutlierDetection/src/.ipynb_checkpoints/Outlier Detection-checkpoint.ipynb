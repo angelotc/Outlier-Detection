{
 "cells": [
  {
   "cell_type": "code",
   "execution_count": 64,
   "metadata": {},
   "outputs": [],
   "source": [
    "import os\n",
    "import numpy as np\n",
    "import pandas as pd\n",
    "\n",
    "def add_row(df, row):\n",
    "    df.loc[-1] = row\n",
    "    df.index = df.index + 1  \n",
    "    return df.sort_index()\n",
    "\n",
    "def main():\n",
    "\n",
    "    directory = 'C:/Users\\\\acortez\\\\Desktop\\\\_SCHS\\\\test\\\\'\n",
    "\n",
    "    customers = {}\n",
    "\n",
    "    # Loop through every file in the directory\n",
    "    for filename in os.listdir(directory):\n",
    "        if filename.endswith(\".txt\"):\n",
    "            try:\n",
    "                # Process files that end with .txt\n",
    "                file = open(directory + filename)\n",
    "                lines = file.read()\n",
    "\n",
    "                dl = '|'\n",
    "                lines = lines.split(dl)\n",
    "                lrr_count = lines[1]\n",
    "\n",
    "                # print(filename)\n",
    "                # print(lrr_count + '\\n' )\n",
    "\n",
    "                customers[filename] = int(lrr_count)\n",
    "\n",
    "                count_list.append(int(lrr_count))\n",
    "\n",
    "                file.close()\n",
    "\n",
    "            except:\n",
    "                print('error')\n",
    "        else:\n",
    "            continue\n",
    "    mean = np.mean(list(customers.values()))\n",
    "    median =  np.median(list(customers.values()))\n",
    "    #print('Mean:   ', mean)\n",
    "    #print('Median: ', median)\n",
    "\n",
    "    df = pd.DataFrame(columns = ['Customer Name', 'Count', 'Median', 'Mean' ])\n",
    "    for cust in customers:\n",
    "        lrrCount = customers[cust]\n",
    "        if (lrrCount >= (mean * 10)) or (lrrCount <= (mean / 10)) or (lrrCount >= (median * 10)) or (lrrCount <= (median / 10)):\n",
    "            row = [cust.split('.txt')[0], customers[cust], median, mean]\n",
    "            add_row(df, row )\n",
    "\n",
    "    df.to_csv(directory + 'output.csv', index = False)"
   ]
  },
  {
   "cell_type": "code",
   "execution_count": 3,
   "metadata": {},
   "outputs": [
    {
     "data": {
      "text/plain": [
       "'C:\\\\Users\\\\acortez\\\\Desktop\\\\_SCHS\\\\BadBuild\\\\src'"
      ]
     },
     "execution_count": 3,
     "metadata": {},
     "output_type": "execute_result"
    }
   ],
   "source": [
    "import os\n",
    "os.getcwd('BadBuild\\\\"
   ]
  },
  {
   "cell_type": "code",
   "execution_count": null,
   "metadata": {},
   "outputs": [],
   "source": []
  }
 ],
 "metadata": {
  "kernelspec": {
   "display_name": "Python 3",
   "language": "python",
   "name": "python3"
  },
  "language_info": {
   "codemirror_mode": {
    "name": "ipython",
    "version": 3
   },
   "file_extension": ".py",
   "mimetype": "text/x-python",
   "name": "python",
   "nbconvert_exporter": "python",
   "pygments_lexer": "ipython3",
   "version": "3.7.1"
  }
 },
 "nbformat": 4,
 "nbformat_minor": 2
}
